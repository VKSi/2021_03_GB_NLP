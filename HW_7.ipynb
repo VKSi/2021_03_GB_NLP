{
  "nbformat": 4,
  "nbformat_minor": 0,
  "metadata": {
    "kernelspec": {
      "display_name": "Python 3",
      "language": "python",
      "name": "python3"
    },
    "language_info": {
      "codemirror_mode": {
        "name": "ipython",
        "version": 3
      },
      "file_extension": ".py",
      "mimetype": "text/x-python",
      "name": "python",
      "nbconvert_exporter": "python",
      "pygments_lexer": "ipython3",
      "version": "3.8.3"
    },
    "colab": {
      "name": "HW_7.ipynb",
      "provenance": [],
      "collapsed_sections": [
        "DYl6QDpDj-tf",
        "jPuysIZZ7yxq"
      ],
      "include_colab_link": true
    }
  },
  "cells": [
    {
      "cell_type": "markdown",
      "metadata": {
        "id": "view-in-github",
        "colab_type": "text"
      },
      "source": [
        "<a href=\"https://colab.research.google.com/github/VKSi/2021_03_GB_NLP/blob/main/HW_7.ipynb\" target=\"_parent\"><img src=\"https://colab.research.google.com/assets/colab-badge.svg\" alt=\"Open In Colab\"/></a>"
      ]
    },
    {
      "cell_type": "markdown",
      "metadata": {
        "id": "1SxryiQE7yxX"
      },
      "source": [
        "### Сверточные сети в NLP\n",
        "\n",
        "Берем отызывы за лето (из архива с материалами или предыдущего занятия)\n",
        "1. Учим conv сеть для классификации\n",
        "2. Берём предобученный word2vec и его эмбедингами инициализируем сетку, как влияет на качество?\n",
        "3. Сравнить разные виды эмбедингов tf.Embeddings word2vec/Fasttext (в качестве агригации попробовать разные виды не только среднее для документа)\n",
        "4. По моделировать различные архитектуры сетей (несколько слоёв свёрток с пулингом без с полносвязанными и без них) по смотреть какая архитектура быстрее переобучается, какая более хорошо решает текущую задачу"
      ]
    },
    {
      "cell_type": "markdown",
      "metadata": {
        "id": "oiHKVcKF7yxe"
      },
      "source": [
        "#### Подготовка датасета"
      ]
    },
    {
      "cell_type": "code",
      "metadata": {
        "id": "J4dPjKT97yxc"
      },
      "source": [
        "from sklearn import model_selection, preprocessing, linear_model, naive_bayes, metrics, svm\n",
        "from sklearn.svm import LinearSVC\n",
        "from sklearn.feature_extraction.text import TfidfVectorizer, CountVectorizer\n",
        "from sklearn import decomposition, ensemble\n",
        "import nltk\n",
        "# nltk.download('stopwords')\n",
        "from nltk.corpus import stopwords\n",
        "from nltk.stem.wordnet import WordNetLemmatizer\n",
        "import re\n",
        "import pandas as pd\n",
        "import pandas, numpy, textblob, string\n",
        "#!pip install wordcloud\n",
        "from wordcloud import WordCloud\n",
        "import matplotlib.pyplot as plt\n"
      ],
      "execution_count": null,
      "outputs": []
    },
    {
      "cell_type": "code",
      "metadata": {
        "id": "u4anhlcT7yxd"
      },
      "source": [
        "import warnings\n",
        "warnings.filterwarnings(\"ignore\")"
      ],
      "execution_count": null,
      "outputs": []
    },
    {
      "cell_type": "code",
      "metadata": {
        "colab": {
          "base_uri": "https://localhost:8080/"
        },
        "id": "2qd1NfKH8rZ-",
        "outputId": "9577a772-d708-4f10-f505-890bb711e2b6"
      },
      "source": [
        "from google.colab import drive\n",
        "drive.mount('/content/gdrive')"
      ],
      "execution_count": null,
      "outputs": [
        {
          "output_type": "stream",
          "text": [
            "Drive already mounted at /content/gdrive; to attempt to forcibly remount, call drive.mount(\"/content/gdrive\", force_remount=True).\n"
          ],
          "name": "stdout"
        }
      ]
    },
    {
      "cell_type": "code",
      "metadata": {
        "id": "buJcjGa0809t"
      },
      "source": [
        "PATH = 'gdrive/My Drive/AI/GB/NLP/Lesson7/'"
      ],
      "execution_count": null,
      "outputs": []
    },
    {
      "cell_type": "code",
      "metadata": {
        "id": "yrASVo7FjEau"
      },
      "source": [
        "import matplotlib.pyplot as plt\n",
        "def plot_graphs(history, metric):\n",
        "  plt.plot(history.history[metric])\n",
        "  plt.plot(history.history['val_'+metric], '')\n",
        "  plt.xlabel(\"Epochs\")\n",
        "  plt.ylabel(metric)\n",
        "  plt.legend([metric, 'val_'+metric])\n",
        "\n",
        "def my_plot_graphs(history):\n",
        "  plt.figure(figsize=(16,8))\n",
        "  plt.subplot(1,2,1)\n",
        "  plot_graphs(history, 'accuracy')\n",
        "  plt.ylim(None,1)\n",
        "  plt.subplot(1,2,2)\n",
        "  plot_graphs(history, 'loss')\n",
        "  plt.ylim(0,None)"
      ],
      "execution_count": null,
      "outputs": []
    },
    {
      "cell_type": "code",
      "metadata": {
        "id": "ThwgPMVf8VW7"
      },
      "source": [
        "data = pd.read_excel(PATH + \"отзывы за лето.xls\")"
      ],
      "execution_count": null,
      "outputs": []
    },
    {
      "cell_type": "code",
      "metadata": {
        "colab": {
          "base_uri": "https://localhost:8080/",
          "height": 195
        },
        "id": "Zz-aVrDz8VUE",
        "outputId": "a5683e2e-296c-456a-e1f5-59be7a6110b6"
      },
      "source": [
        "data.head()"
      ],
      "execution_count": null,
      "outputs": [
        {
          "output_type": "execute_result",
          "data": {
            "text/html": [
              "<div>\n",
              "<style scoped>\n",
              "    .dataframe tbody tr th:only-of-type {\n",
              "        vertical-align: middle;\n",
              "    }\n",
              "\n",
              "    .dataframe tbody tr th {\n",
              "        vertical-align: top;\n",
              "    }\n",
              "\n",
              "    .dataframe thead th {\n",
              "        text-align: right;\n",
              "    }\n",
              "</style>\n",
              "<table border=\"1\" class=\"dataframe\">\n",
              "  <thead>\n",
              "    <tr style=\"text-align: right;\">\n",
              "      <th></th>\n",
              "      <th>Rating</th>\n",
              "      <th>Content</th>\n",
              "      <th>Date</th>\n",
              "    </tr>\n",
              "  </thead>\n",
              "  <tbody>\n",
              "    <tr>\n",
              "      <th>0</th>\n",
              "      <td>5</td>\n",
              "      <td>It just works!</td>\n",
              "      <td>2017-08-14</td>\n",
              "    </tr>\n",
              "    <tr>\n",
              "      <th>1</th>\n",
              "      <td>4</td>\n",
              "      <td>В целом удобноное приложение...из минусов хотя...</td>\n",
              "      <td>2017-08-14</td>\n",
              "    </tr>\n",
              "    <tr>\n",
              "      <th>2</th>\n",
              "      <td>5</td>\n",
              "      <td>Отлично все</td>\n",
              "      <td>2017-08-14</td>\n",
              "    </tr>\n",
              "    <tr>\n",
              "      <th>3</th>\n",
              "      <td>5</td>\n",
              "      <td>Стал зависать на 1% работы антивируса. Дальше ...</td>\n",
              "      <td>2017-08-14</td>\n",
              "    </tr>\n",
              "    <tr>\n",
              "      <th>4</th>\n",
              "      <td>5</td>\n",
              "      <td>Очень удобно, работает быстро.</td>\n",
              "      <td>2017-08-14</td>\n",
              "    </tr>\n",
              "  </tbody>\n",
              "</table>\n",
              "</div>"
            ],
            "text/plain": [
              "   Rating                                            Content        Date\n",
              "0       5                                     It just works!  2017-08-14\n",
              "1       4  В целом удобноное приложение...из минусов хотя...  2017-08-14\n",
              "2       5                                        Отлично все  2017-08-14\n",
              "3       5  Стал зависать на 1% работы антивируса. Дальше ...  2017-08-14\n",
              "4       5                     Очень удобно, работает быстро.  2017-08-14"
            ]
          },
          "metadata": {
            "tags": []
          },
          "execution_count": 16
        }
      ]
    },
    {
      "cell_type": "code",
      "metadata": {
        "colab": {
          "base_uri": "https://localhost:8080/"
        },
        "id": "pFffTnrS9qhv",
        "outputId": "d70efaaf-0588-498b-d32f-cd4201489952"
      },
      "source": [
        "!pip install pymorphy2"
      ],
      "execution_count": null,
      "outputs": [
        {
          "output_type": "stream",
          "text": [
            "Collecting pymorphy2\n",
            "\u001b[?25l  Downloading https://files.pythonhosted.org/packages/07/57/b2ff2fae3376d4f3c697b9886b64a54b476e1a332c67eee9f88e7f1ae8c9/pymorphy2-0.9.1-py3-none-any.whl (55kB)\n",
            "\r\u001b[K     |██████                          | 10kB 14.6MB/s eta 0:00:01\r\u001b[K     |███████████▉                    | 20kB 20.6MB/s eta 0:00:01\r\u001b[K     |█████████████████▊              | 30kB 12.7MB/s eta 0:00:01\r\u001b[K     |███████████████████████▋        | 40kB 9.0MB/s eta 0:00:01\r\u001b[K     |█████████████████████████████▌  | 51kB 8.8MB/s eta 0:00:01\r\u001b[K     |████████████████████████████████| 61kB 4.3MB/s \n",
            "\u001b[?25hRequirement already satisfied: docopt>=0.6 in /usr/local/lib/python3.7/dist-packages (from pymorphy2) (0.6.2)\n",
            "Collecting dawg-python>=0.7.1\n",
            "  Downloading https://files.pythonhosted.org/packages/6a/84/ff1ce2071d4c650ec85745766c0047ccc3b5036f1d03559fd46bb38b5eeb/DAWG_Python-0.7.2-py2.py3-none-any.whl\n",
            "Collecting pymorphy2-dicts-ru<3.0,>=2.4\n",
            "\u001b[?25l  Downloading https://files.pythonhosted.org/packages/3a/79/bea0021eeb7eeefde22ef9e96badf174068a2dd20264b9a378f2be1cdd9e/pymorphy2_dicts_ru-2.4.417127.4579844-py2.py3-none-any.whl (8.2MB)\n",
            "\u001b[K     |████████████████████████████████| 8.2MB 8.3MB/s \n",
            "\u001b[?25hInstalling collected packages: dawg-python, pymorphy2-dicts-ru, pymorphy2\n",
            "Successfully installed dawg-python-0.7.2 pymorphy2-0.9.1 pymorphy2-dicts-ru-2.4.417127.4579844\n"
          ],
          "name": "stdout"
        }
      ]
    },
    {
      "cell_type": "code",
      "metadata": {
        "colab": {
          "base_uri": "https://localhost:8080/"
        },
        "id": "5YvTDn0h-xv0",
        "outputId": "2568b112-d9ad-4d0a-bc92-9ada74f9f54b"
      },
      "source": [
        "!pip install stop-words"
      ],
      "execution_count": null,
      "outputs": [
        {
          "output_type": "stream",
          "text": [
            "Collecting stop-words\n",
            "  Downloading https://files.pythonhosted.org/packages/1c/cb/d58290804b7a4c5daa42abbbe2a93c477ae53e45541b1825e86f0dfaaf63/stop-words-2018.7.23.tar.gz\n",
            "Building wheels for collected packages: stop-words\n",
            "  Building wheel for stop-words (setup.py) ... \u001b[?25l\u001b[?25hdone\n",
            "  Created wheel for stop-words: filename=stop_words-2018.7.23-cp37-none-any.whl size=32917 sha256=36f3c25162d108fb5a3f8ecafc635bdd8d395074111b3a4d9d9814504d844f6b\n",
            "  Stored in directory: /root/.cache/pip/wheels/75/37/6a/2b295e03bd07290f0da95c3adb9a74ba95fbc333aa8b0c7c78\n",
            "Successfully built stop-words\n",
            "Installing collected packages: stop-words\n",
            "Successfully installed stop-words-2018.7.23\n"
          ],
          "name": "stdout"
        }
      ]
    },
    {
      "cell_type": "code",
      "metadata": {
        "id": "5vH1dixy-Aks"
      },
      "source": [
        "import nltk\n",
        "import string\n",
        "import re"
      ],
      "execution_count": null,
      "outputs": []
    },
    {
      "cell_type": "code",
      "metadata": {
        "id": "aREFhDKK8VQb"
      },
      "source": [
        "from pymorphy2 import MorphAnalyzer\n",
        "from stop_words import get_stop_words\n",
        "from string import punctuation\n",
        "\n",
        "exclude = set(punctuation).union({'я', 'в', 'и', 'на', 'с', 'по'})\n",
        "sw = set(get_stop_words(\"ru\"))\n",
        "morpher = MorphAnalyzer()\n",
        "\n",
        "def preprocess_text(txt):\n",
        "    txt = str(txt)\n",
        "    txt = \"\".join(c for c in txt if c not in exclude)\n",
        "    txt = txt.lower()\n",
        "    txt = re.sub(\"\\sне\", \"не\", txt)\n",
        "    txt = [morpher.parse(word)[0].normal_form for word in txt.split() if word not in exclude]\n",
        "    return \" \".join(txt)\n",
        "\n",
        "data['text'] = data['Content'].apply(preprocess_text)\n",
        "data = data[data['Rating'] != 3]\n",
        "data['target'] = (data['Rating'] > 3)*1"
      ],
      "execution_count": null,
      "outputs": []
    },
    {
      "cell_type": "code",
      "metadata": {
        "colab": {
          "base_uri": "https://localhost:8080/",
          "height": 195
        },
        "id": "w7ovDM0k9WTl",
        "outputId": "e39eb184-059b-4116-a49d-97485809332f"
      },
      "source": [
        "data['target'] = data['target'].astype(int)\n",
        "data.head()"
      ],
      "execution_count": null,
      "outputs": [
        {
          "output_type": "execute_result",
          "data": {
            "text/html": [
              "<div>\n",
              "<style scoped>\n",
              "    .dataframe tbody tr th:only-of-type {\n",
              "        vertical-align: middle;\n",
              "    }\n",
              "\n",
              "    .dataframe tbody tr th {\n",
              "        vertical-align: top;\n",
              "    }\n",
              "\n",
              "    .dataframe thead th {\n",
              "        text-align: right;\n",
              "    }\n",
              "</style>\n",
              "<table border=\"1\" class=\"dataframe\">\n",
              "  <thead>\n",
              "    <tr style=\"text-align: right;\">\n",
              "      <th></th>\n",
              "      <th>Rating</th>\n",
              "      <th>Content</th>\n",
              "      <th>Date</th>\n",
              "      <th>text</th>\n",
              "      <th>target</th>\n",
              "    </tr>\n",
              "  </thead>\n",
              "  <tbody>\n",
              "    <tr>\n",
              "      <th>0</th>\n",
              "      <td>5</td>\n",
              "      <td>It just works!</td>\n",
              "      <td>2017-08-14</td>\n",
              "      <td>it just works</td>\n",
              "      <td>1</td>\n",
              "    </tr>\n",
              "    <tr>\n",
              "      <th>1</th>\n",
              "      <td>4</td>\n",
              "      <td>В целом удобноное приложение...из минусов хотя...</td>\n",
              "      <td>2017-08-14</td>\n",
              "      <td>целое удобноной прложенез мнуо хотт лшкома бол...</td>\n",
              "      <td>1</td>\n",
              "    </tr>\n",
              "    <tr>\n",
              "      <th>2</th>\n",
              "      <td>5</td>\n",
              "      <td>Отлично все</td>\n",
              "      <td>2017-08-14</td>\n",
              "      <td>отлчно быть</td>\n",
              "      <td>1</td>\n",
              "    </tr>\n",
              "    <tr>\n",
              "      <th>3</th>\n",
              "      <td>5</td>\n",
              "      <td>Стал зависать на 1% работы антивируса. Дальше ...</td>\n",
              "      <td>2017-08-14</td>\n",
              "      <td>стать заать 1 работа антруа далёкий нкуда ране...</td>\n",
              "      <td>1</td>\n",
              "    </tr>\n",
              "    <tr>\n",
              "      <th>4</th>\n",
              "      <td>5</td>\n",
              "      <td>Очень удобно, работает быстро.</td>\n",
              "      <td>2017-08-14</td>\n",
              "      <td>очень удобно работать бытро</td>\n",
              "      <td>1</td>\n",
              "    </tr>\n",
              "  </tbody>\n",
              "</table>\n",
              "</div>"
            ],
            "text/plain": [
              "   Rating  ... target\n",
              "0       5  ...      1\n",
              "1       4  ...      1\n",
              "2       5  ...      1\n",
              "3       5  ...      1\n",
              "4       5  ...      1\n",
              "\n",
              "[5 rows x 5 columns]"
            ]
          },
          "metadata": {
            "tags": []
          },
          "execution_count": 21
        }
      ]
    },
    {
      "cell_type": "code",
      "metadata": {
        "id": "X2je6tLE7yxs"
      },
      "source": [
        "from sklearn.model_selection import train_test_split"
      ],
      "execution_count": null,
      "outputs": []
    },
    {
      "cell_type": "code",
      "metadata": {
        "colab": {
          "base_uri": "https://localhost:8080/"
        },
        "id": "aWqRLfV17yxs",
        "outputId": "31805ca6-ce1f-4deb-9fdb-2c00cffb65c8"
      },
      "source": [
        "data['target'].value_counts()"
      ],
      "execution_count": null,
      "outputs": [
        {
          "output_type": "execute_result",
          "data": {
            "text/plain": [
              "1    16724\n",
              "0     3024\n",
              "Name: target, dtype: int64"
            ]
          },
          "metadata": {
            "tags": []
          },
          "execution_count": 23
        }
      ]
    },
    {
      "cell_type": "code",
      "metadata": {
        "id": "lqaP0jit7yxs"
      },
      "source": [
        "X_train, X_test, y_train, y_test = train_test_split(data['text'], data['target'], test_size=0.2,\n",
        "                                                    random_state=13, stratify=data['target'])"
      ],
      "execution_count": null,
      "outputs": []
    },
    {
      "cell_type": "code",
      "metadata": {
        "colab": {
          "base_uri": "https://localhost:8080/"
        },
        "id": "Us3vlXFoBdsO",
        "outputId": "391e150d-d6a4-4d04-f85a-eeac8b6f7af2"
      },
      "source": [
        "X_train.head()"
      ],
      "execution_count": null,
      "outputs": [
        {
          "output_type": "execute_result",
          "data": {
            "text/plain": [
              "547                                             клано\n",
              "1863             неозможный пользоать рутоать телефон\n",
              "13949                   работать хорошо без нареканть\n",
              "11501                                          отлчно\n",
              "6238     ян мочь понть почему заблокроала мой аккаунт\n",
              "Name: text, dtype: object"
            ]
          },
          "metadata": {
            "tags": []
          },
          "execution_count": 25
        }
      ]
    },
    {
      "cell_type": "code",
      "metadata": {
        "id": "zdTDVcBF9WQk"
      },
      "source": [
        "train_corpus = \" \".join(X_train)\n",
        "train_corpus = train_corpus.lower()"
      ],
      "execution_count": null,
      "outputs": []
    },
    {
      "cell_type": "code",
      "metadata": {
        "colab": {
          "base_uri": "https://localhost:8080/"
        },
        "id": "pD9zvL7f9WNd",
        "outputId": "a8dc1f04-327b-406a-d13c-181153627c06"
      },
      "source": [
        "from nltk.tokenize import word_tokenize\n",
        "nltk.download(\"punkt\")\n",
        "\n",
        "tokens = word_tokenize(train_corpus)"
      ],
      "execution_count": null,
      "outputs": [
        {
          "output_type": "stream",
          "text": [
            "[nltk_data] Downloading package punkt to /root/nltk_data...\n",
            "[nltk_data]   Unzipping tokenizers/punkt.zip.\n"
          ],
          "name": "stdout"
        }
      ]
    },
    {
      "cell_type": "code",
      "metadata": {
        "id": "KiTKzGM09WKV"
      },
      "source": [
        "tokens_filtered = [word for word in tokens if word.isalnum()]"
      ],
      "execution_count": null,
      "outputs": []
    },
    {
      "cell_type": "code",
      "metadata": {
        "id": "JHEvmyTfCCSM"
      },
      "source": [
        "max_words = 1000\n",
        "max_len = 40\n",
        "num_classes = 1\n",
        "\n",
        "# Training\n",
        "epochs = 20\n",
        "batch_size = 512\n",
        "print_batch_n = 100"
      ],
      "execution_count": null,
      "outputs": []
    },
    {
      "cell_type": "code",
      "metadata": {
        "id": "ZbevpGJl9WHM"
      },
      "source": [
        "from nltk.probability import FreqDist\n",
        "dist = FreqDist(tokens_filtered)\n",
        "tokens_filtered_top = [pair[0] for pair in dist.most_common(max_words-1)]"
      ],
      "execution_count": null,
      "outputs": []
    },
    {
      "cell_type": "code",
      "metadata": {
        "colab": {
          "base_uri": "https://localhost:8080/"
        },
        "id": "e0FEI5b89WEN",
        "outputId": "caaaef81-72d2-4614-e286-32e427eff865"
      },
      "source": [
        "tokens_filtered_top[:20]"
      ],
      "execution_count": null,
      "outputs": [
        {
          "output_type": "execute_result",
          "data": {
            "text/plain": [
              "['прложена',\n",
              " 'очень',\n",
              " 'удобно',\n",
              " 'быть',\n",
              " 'работать',\n",
              " 'ве',\n",
              " 'удобный',\n",
              " 'что',\n",
              " 'отлчно',\n",
              " 'я',\n",
              " 'вё',\n",
              " 'нрат',\n",
              " 'хороший',\n",
              " 'хорошо',\n",
              " 'отлчной',\n",
              " 'раз',\n",
              " 'спабо',\n",
              " 'это',\n",
              " 'не',\n",
              " 'а']"
            ]
          },
          "metadata": {
            "tags": []
          },
          "execution_count": 31
        }
      ]
    },
    {
      "cell_type": "code",
      "metadata": {
        "id": "1pVBf8O69WBP"
      },
      "source": [
        "vocabulary = {v: k for k, v in dict(enumerate(tokens_filtered_top, 1)).items()}"
      ],
      "execution_count": null,
      "outputs": []
    },
    {
      "cell_type": "code",
      "metadata": {
        "id": "DDAO9WJf9V90"
      },
      "source": [
        "import numpy as np\n",
        "\n",
        "def text_to_sequence(text, maxlen):\n",
        "    result = []\n",
        "    tokens = word_tokenize(text.lower())\n",
        "    tokens_filtered = [word for word in tokens if word.isalnum()]\n",
        "    for word in tokens_filtered:\n",
        "        if word in vocabulary:\n",
        "            result.append(vocabulary[word])\n",
        "    padding = [0]*(maxlen-len(result))\n",
        "    return padding + result[-maxlen:]"
      ],
      "execution_count": null,
      "outputs": []
    },
    {
      "cell_type": "code",
      "metadata": {
        "id": "E4OHrEut9V6M"
      },
      "source": [
        "x_train = np.asarray([text_to_sequence(text, max_len) for text in X_train], dtype=np.int32)\n",
        "x_test = np.asarray([text_to_sequence(text, max_len) for text in X_test], dtype=np.int32)"
      ],
      "execution_count": null,
      "outputs": []
    },
    {
      "cell_type": "code",
      "metadata": {
        "colab": {
          "base_uri": "https://localhost:8080/"
        },
        "id": "NNHlgaDW8VLc",
        "outputId": "c7713535-ff36-47af-ec38-ec861bdf5a81"
      },
      "source": [
        "x_train.shape"
      ],
      "execution_count": null,
      "outputs": [
        {
          "output_type": "execute_result",
          "data": {
            "text/plain": [
              "(15798, 40)"
            ]
          },
          "metadata": {
            "tags": []
          },
          "execution_count": 35
        }
      ]
    },
    {
      "cell_type": "code",
      "metadata": {
        "colab": {
          "base_uri": "https://localhost:8080/"
        },
        "id": "-qlMBTyFH6lD",
        "outputId": "d51465d7-6787-4f62-a175-b86cd4a2e309"
      },
      "source": [
        "x_test.shape"
      ],
      "execution_count": null,
      "outputs": [
        {
          "output_type": "execute_result",
          "data": {
            "text/plain": [
              "(3950, 40)"
            ]
          },
          "metadata": {
            "tags": []
          },
          "execution_count": 36
        }
      ]
    },
    {
      "cell_type": "code",
      "metadata": {
        "colab": {
          "base_uri": "https://localhost:8080/"
        },
        "id": "1Lu6nkWG8VIk",
        "outputId": "5e27f7fa-9335-46d9-9eb1-c0c6fc3cbfae"
      },
      "source": [
        "x_train[1]"
      ],
      "execution_count": null,
      "outputs": [
        {
          "output_type": "execute_result",
          "data": {
            "text/plain": [
              "array([  0,   0,   0,   0,   0,   0,   0,   0,   0,   0,   0,   0,   0,\n",
              "         0,   0,   0,   0,   0,   0,   0,   0,   0,   0,   0,   0,   0,\n",
              "         0,   0,   0,   0,   0,   0,   0,   0,   0,   0, 564,  63, 846,\n",
              "        22], dtype=int32)"
            ]
          },
          "metadata": {
            "tags": []
          },
          "execution_count": 37
        }
      ]
    },
    {
      "cell_type": "code",
      "metadata": {
        "id": "FMBeT7d6EyNu"
      },
      "source": [
        "import keras\n",
        "from keras import initializers\n",
        "from keras.models import Sequential, Model\n",
        "from keras.layers import Dense, Dropout, Activation, Input, Embedding, Conv1D, GlobalMaxPool1D, MaxPooling1D\n",
        "from keras.preprocessing.text import Tokenizer\n",
        "from keras.preprocessing.sequence import pad_sequences\n",
        "from keras.callbacks import TensorBoard \n",
        "from keras.objectives import categorical_crossentropy\n",
        "from keras.callbacks import EarlyStopping  "
      ],
      "execution_count": null,
      "outputs": []
    },
    {
      "cell_type": "code",
      "metadata": {
        "id": "SbuLtpsREyLE"
      },
      "source": [
        "num_classes = 2\n",
        "y_train = keras.utils.to_categorical(y_train, num_classes)\n",
        "y_test = keras.utils.to_categorical(y_test, num_classes)"
      ],
      "execution_count": null,
      "outputs": []
    },
    {
      "cell_type": "markdown",
      "metadata": {
        "id": "IaoUB9brjdxE"
      },
      "source": [
        "### CNN Модель 1     \n",
        " Embedding(встроенный)/Conv1D(128, 3)/GlobalMaxPool1D()     \n",
        " Test accuracy:  0.928"
      ]
    },
    {
      "cell_type": "code",
      "metadata": {
        "id": "Vs0Un1YrEyIm"
      },
      "source": [
        "model = Sequential()\n",
        "model.add(Embedding(input_dim=max_words, output_dim=128, input_length=max_len))\n",
        "model.add(Conv1D(128, 3))\n",
        "model.add(Activation(\"relu\"))\n",
        "model.add(GlobalMaxPool1D())\n",
        "model.add(Dense(10))\n",
        "model.add(Activation(\"relu\"))\n",
        "model.add(Dense(num_classes))\n",
        "model.add(Activation('softmax'))"
      ],
      "execution_count": null,
      "outputs": []
    },
    {
      "cell_type": "code",
      "metadata": {
        "colab": {
          "base_uri": "https://localhost:8080/",
          "height": 753
        },
        "id": "0sI0r7avEyDk",
        "outputId": "b499b121-cf23-456a-9652-3b0db740a96b"
      },
      "source": [
        "model.compile(loss='categorical_crossentropy',\n",
        "              optimizer='adam',\n",
        "              metrics=['accuracy'])\n",
        "\n",
        "tensorboard=TensorBoard(log_dir='./logs', write_graph=True, write_images=True)\n",
        "early_stopping=EarlyStopping(monitor='val_loss')  \n",
        "\n",
        "history = model.fit(x_train, y_train,\n",
        "                    batch_size=batch_size,\n",
        "                    epochs=epochs,\n",
        "                    verbose=1,\n",
        "                    validation_split=0.1,\n",
        "                    callbacks=[tensorboard, early_stopping])\n",
        "\n",
        "score = model.evaluate(x_test, y_test, batch_size=batch_size, verbose=1)\n",
        "print('\\n')\n",
        "print(f'Test score: { score[0]: .3f}' )\n",
        "print(f'Test accuracy: {score[1]: .3f}')\n",
        "\n",
        "my_plot_graphs(history)"
      ],
      "execution_count": null,
      "outputs": [
        {
          "output_type": "stream",
          "text": [
            "Epoch 1/20\n",
            "28/28 [==============================] - 5s 156ms/step - loss: 0.5402 - accuracy: 0.8433 - val_loss: 0.3666 - val_accuracy: 0.8430\n",
            "Epoch 2/20\n",
            "28/28 [==============================] - 4s 140ms/step - loss: 0.3224 - accuracy: 0.8473 - val_loss: 0.2121 - val_accuracy: 0.9044\n",
            "Epoch 3/20\n",
            "28/28 [==============================] - 4s 139ms/step - loss: 0.1875 - accuracy: 0.9265 - val_loss: 0.1765 - val_accuracy: 0.9177\n",
            "Epoch 4/20\n",
            "28/28 [==============================] - 4s 140ms/step - loss: 0.1554 - accuracy: 0.9391 - val_loss: 0.1748 - val_accuracy: 0.9165\n",
            "Epoch 5/20\n",
            "28/28 [==============================] - 4s 139ms/step - loss: 0.1312 - accuracy: 0.9526 - val_loss: 0.1800 - val_accuracy: 0.9146\n",
            "8/8 [==============================] - 0s 37ms/step - loss: 0.1744 - accuracy: 0.9289\n",
            "\n",
            "\n",
            "Test score:  0.174\n",
            "Test accuracy:  0.929\n"
          ],
          "name": "stdout"
        },
        {
          "output_type": "display_data",
          "data": {
            "image/png": "[encoded data removed]",
            "text/plain": [
              "<Figure size 1152x576 with 2 Axes>"
            ]
          },
          "metadata": {
            "tags": [],
            "needs_background": "light"
          }
        }
      ]
    },
    {
      "cell_type": "code",
      "metadata": {
        "id": "bO1fWKRElVer"
      },
      "source": [
        ""
      ],
      "execution_count": null,
      "outputs": []
    },
    {
      "cell_type": "markdown",
      "metadata": {
        "id": "DYl6QDpDj-tf"
      },
      "source": [
        "### CNN Модель 2     \n",
        "Два сверточных слоя через MaxPooling     \n",
        "Test accuracy 0.917"
      ]
    },
    {
      "cell_type": "code",
      "metadata": {
        "id": "Yl5fzyjZj-tg"
      },
      "source": [
        "model = Sequential()\n",
        "model.add(Embedding(input_dim=max_words, output_dim=128, input_length=max_len))\n",
        "model.add(Conv1D(128, 3))\n",
        "model.add(Activation(\"relu\"))\n",
        "model.add(MaxPooling1D())\n",
        "model.add(Conv1D(128, 3))\n",
        "model.add(Activation(\"relu\"))\n",
        "model.add(GlobalMaxPool1D())\n",
        "model.add(Dense(10))\n",
        "model.add(Activation(\"relu\"))\n",
        "model.add(Dense(num_classes))\n",
        "model.add(Activation('softmax'))"
      ],
      "execution_count": null,
      "outputs": []
    },
    {
      "cell_type": "code",
      "metadata": {
        "colab": {
          "base_uri": "https://localhost:8080/",
          "height": 719
        },
        "id": "qlgF4v7nj-tg",
        "outputId": "1ed18631-aad5-4a04-ba3a-a17bbdeb742c"
      },
      "source": [
        "model.compile(loss='categorical_crossentropy',\n",
        "              optimizer='adam',\n",
        "              metrics=['accuracy'])\n",
        "\n",
        "tensorboard=TensorBoard(log_dir='./logs', write_graph=True, write_images=True)\n",
        "early_stopping=EarlyStopping(monitor='val_loss')  \n",
        "\n",
        "history = model.fit(x_train, y_train,\n",
        "                    batch_size=batch_size,\n",
        "                    epochs=epochs,\n",
        "                    verbose=1,\n",
        "                    validation_split=0.1,\n",
        "                    callbacks=[tensorboard, early_stopping])\n",
        "\n",
        "score = model.evaluate(x_test, y_test, batch_size=batch_size, verbose=1)\n",
        "print('\\n')\n",
        "print(f'Test score: { score[0]: .3f}' )\n",
        "print(f'Test accuracy: {score[1]: .3f}')\n",
        "\n",
        "my_plot_graphs(history)"
      ],
      "execution_count": null,
      "outputs": [
        {
          "output_type": "stream",
          "text": [
            "Epoch 1/20\n",
            "28/28 [==============================] - 6s 208ms/step - loss: 0.5462 - accuracy: 0.8255 - val_loss: 0.3341 - val_accuracy: 0.8437\n",
            "Epoch 2/20\n",
            "28/28 [==============================] - 5s 196ms/step - loss: 0.2769 - accuracy: 0.8814 - val_loss: 0.1881 - val_accuracy: 0.9152\n",
            "Epoch 3/20\n",
            "28/28 [==============================] - 5s 195ms/step - loss: 0.1700 - accuracy: 0.9297 - val_loss: 0.1758 - val_accuracy: 0.9209\n",
            "Epoch 4/20\n",
            "28/28 [==============================] - 5s 195ms/step - loss: 0.1385 - accuracy: 0.9450 - val_loss: 0.1883 - val_accuracy: 0.9127\n",
            "8/8 [==============================] - 0s 51ms/step - loss: 0.1855 - accuracy: 0.9215\n",
            "\n",
            "\n",
            "Test score:  0.185\n",
            "Test accuracy:  0.922\n"
          ],
          "name": "stdout"
        },
        {
          "output_type": "display_data",
          "data": {
            "image/png": "[encoded data removed]",
            "text/plain": [
              "<Figure size 1152x576 with 2 Axes>"
            ]
          },
          "metadata": {
            "tags": [],
            "needs_background": "light"
          }
        }
      ]
    },
    {
      "cell_type": "markdown",
      "metadata": {
        "id": "LnC-3kJALMAs"
      },
      "source": [
        "### CNN Модель 3     \n",
        "Два сверточных слоя без промежуточного пуллинга     \n",
        "Test accuracy 0.924"
      ]
    },
    {
      "cell_type": "code",
      "metadata": {
        "id": "Kt90xp-hLMAs"
      },
      "source": [
        "model = Sequential()\n",
        "model.add(Embedding(input_dim=max_words, output_dim=128, input_length=max_len))\n",
        "model.add(Conv1D(128, 3))\n",
        "model.add(Activation(\"relu\"))\n",
        "model.add(Conv1D(128, 3))\n",
        "model.add(Activation(\"relu\"))\n",
        "model.add(GlobalMaxPool1D())\n",
        "model.add(Dense(10))\n",
        "model.add(Activation(\"relu\"))\n",
        "model.add(Dense(num_classes))\n",
        "model.add(Activation('softmax'))"
      ],
      "execution_count": null,
      "outputs": []
    },
    {
      "cell_type": "code",
      "metadata": {
        "colab": {
          "base_uri": "https://localhost:8080/",
          "height": 753
        },
        "id": "uME-FIFGLMAt",
        "outputId": "b8cf9038-5600-4f04-bed4-8dc941c4945e"
      },
      "source": [
        "model.compile(loss='categorical_crossentropy',\n",
        "              optimizer='adam',\n",
        "              metrics=['accuracy'])\n",
        "\n",
        "tensorboard=TensorBoard(log_dir='./logs', write_graph=True, write_images=True)\n",
        "early_stopping=EarlyStopping(monitor='val_loss')  \n",
        "\n",
        "history = model.fit(x_train, y_train,\n",
        "                    batch_size=batch_size,\n",
        "                    epochs=epochs,\n",
        "                    verbose=1,\n",
        "                    validation_split=0.1,\n",
        "                    callbacks=[tensorboard, early_stopping])\n",
        "\n",
        "score = model.evaluate(x_test, y_test, batch_size=batch_size, verbose=1)\n",
        "print('\\n')\n",
        "print(f'Test score: { score[0]: .3f}' )\n",
        "print(f'Test accuracy: {score[1]: .3f}')\n",
        "\n",
        "my_plot_graphs(history)"
      ],
      "execution_count": null,
      "outputs": [
        {
          "output_type": "stream",
          "text": [
            "Epoch 1/20\n",
            "28/28 [==============================] - 8s 255ms/step - loss: 0.5837 - accuracy: 0.7532 - val_loss: 0.4102 - val_accuracy: 0.8430\n",
            "Epoch 2/20\n",
            "28/28 [==============================] - 7s 243ms/step - loss: 0.3559 - accuracy: 0.8530 - val_loss: 0.2225 - val_accuracy: 0.8994\n",
            "Epoch 3/20\n",
            "28/28 [==============================] - 7s 244ms/step - loss: 0.1945 - accuracy: 0.9205 - val_loss: 0.1809 - val_accuracy: 0.9184\n",
            "Epoch 4/20\n",
            "28/28 [==============================] - 7s 244ms/step - loss: 0.1568 - accuracy: 0.9355 - val_loss: 0.1803 - val_accuracy: 0.9158\n",
            "Epoch 5/20\n",
            "28/28 [==============================] - 7s 244ms/step - loss: 0.1406 - accuracy: 0.9474 - val_loss: 0.1820 - val_accuracy: 0.9177\n",
            "8/8 [==============================] - 1s 66ms/step - loss: 0.1833 - accuracy: 0.9235\n",
            "\n",
            "\n",
            "Test score:  0.183\n",
            "Test accuracy:  0.924\n"
          ],
          "name": "stdout"
        },
        {
          "output_type": "display_data",
          "data": {
            "image/png": "[encoded data removed]",
            "text/plain": [
              "<Figure size 1152x576 with 2 Axes>"
            ]
          },
          "metadata": {
            "tags": [],
            "needs_background": "light"
          }
        }
      ]
    },
    {
      "cell_type": "markdown",
      "metadata": {
        "id": "bjweZ5fDobLm"
      },
      "source": [
        "### Word2Vwc     \n",
        "Test accuracy:  0.859"
      ]
    },
    {
      "cell_type": "code",
      "metadata": {
        "id": "Zbv-nOLIlVa9"
      },
      "source": [
        "from gensim.models import Word2Vec"
      ],
      "execution_count": null,
      "outputs": []
    },
    {
      "cell_type": "code",
      "metadata": {
        "colab": {
          "base_uri": "https://localhost:8080/"
        },
        "id": "M5axDf_0o1wO",
        "outputId": "f9bde6a6-f40c-440c-d6a1-362148e68c35"
      },
      "source": [
        "X_train"
      ],
      "execution_count": null,
      "outputs": [
        {
          "output_type": "execute_result",
          "data": {
            "text/plain": [
              "547                                             клано\n",
              "1863             неозможный пользоать рутоать телефон\n",
              "13949                   работать хорошо без нареканть\n",
              "11501                                          отлчно\n",
              "6238     ян мочь понть почему заблокроала мой аккаунт\n",
              "                             ...                     \n",
              "5897                                         спб за ё\n",
              "19812                                           супер\n",
              "14734                                          удобно\n",
              "4851                                            супер\n",
              "19238                                       ве хорошо\n",
              "Name: text, Length: 15798, dtype: object"
            ]
          },
          "metadata": {
            "tags": []
          },
          "execution_count": 45
        }
      ]
    },
    {
      "cell_type": "code",
      "metadata": {
        "id": "TfqaVIugoji7"
      },
      "source": [
        "modelW2V = Word2Vec(sentences=X_train.apply(str.split), size=128, window=5, min_count=5, workers=8)"
      ],
      "execution_count": null,
      "outputs": []
    },
    {
      "cell_type": "code",
      "metadata": {
        "colab": {
          "base_uri": "https://localhost:8080/"
        },
        "id": "gA9bFhrjojgH",
        "outputId": "c6f46dd9-2468-4281-8783-682be5d79212"
      },
      "source": [
        "[print(wv) for i, wv in enumerate(modelW2V.wv.vocab.items()) if i < 10]"
      ],
      "execution_count": null,
      "outputs": [
        {
          "output_type": "stream",
          "text": [
            "('клано', <gensim.models.keyedvectors.Vocab object at 0x7f2524f157d0>)\n",
            "('неозможный', <gensim.models.keyedvectors.Vocab object at 0x7f2524f15810>)\n",
            "('пользоать', <gensim.models.keyedvectors.Vocab object at 0x7f2524f15850>)\n",
            "('рутоать', <gensim.models.keyedvectors.Vocab object at 0x7f2524f15890>)\n",
            "('телефон', <gensim.models.keyedvectors.Vocab object at 0x7f2524f15910>)\n",
            "('работать', <gensim.models.keyedvectors.Vocab object at 0x7f2524f15990>)\n",
            "('хорошо', <gensim.models.keyedvectors.Vocab object at 0x7f2524f159d0>)\n",
            "('без', <gensim.models.keyedvectors.Vocab object at 0x7f2524f15a10>)\n",
            "('нареканть', <gensim.models.keyedvectors.Vocab object at 0x7f2524f158d0>)\n",
            "('отлчно', <gensim.models.keyedvectors.Vocab object at 0x7f2524f15950>)\n"
          ],
          "name": "stdout"
        },
        {
          "output_type": "execute_result",
          "data": {
            "text/plain": [
              "[None, None, None, None, None, None, None, None, None, None]"
            ]
          },
          "metadata": {
            "tags": []
          },
          "execution_count": 47
        }
      ]
    },
    {
      "cell_type": "code",
      "metadata": {
        "id": "fNSkYY2auJiu"
      },
      "source": [
        "word_vectors = modelW2V.wv"
      ],
      "execution_count": null,
      "outputs": []
    },
    {
      "cell_type": "code",
      "metadata": {
        "colab": {
          "base_uri": "https://localhost:8080/"
        },
        "id": "FpOD5rfZuxmt",
        "outputId": "e594670c-2e37-4dba-d181-a38e377d5a30"
      },
      "source": [
        "word_vectors['хорошо']"
      ],
      "execution_count": null,
      "outputs": [
        {
          "output_type": "execute_result",
          "data": {
            "text/plain": [
              "array([ 0.47110805,  0.03342623,  0.01629899,  0.5612448 ,  0.04321664,\n",
              "       -0.23515096, -0.05580104, -0.03454053, -0.2553704 ,  0.20470464,\n",
              "       -0.15604757, -0.10805014,  0.42831868, -0.3069573 ,  0.10606898,\n",
              "        0.05103368, -0.02248727,  0.3553445 , -0.06847683, -0.01829412,\n",
              "        0.12785174,  0.08045375, -0.26863542,  0.27802008, -0.30105707,\n",
              "       -0.24466376, -0.4989281 , -0.6742742 ,  0.06128469, -0.43149376,\n",
              "        0.39311647, -0.14826624, -0.4669853 ,  0.02719536,  0.15615538,\n",
              "        0.1081901 ,  0.18199302,  0.5578328 ,  0.03864732,  0.06888722,\n",
              "        0.06048632, -0.04238384,  0.05764143, -0.26063442, -0.16855854,\n",
              "       -0.0837699 ,  0.16316152,  0.08741089, -0.53147435, -0.0073373 ,\n",
              "        0.04177535, -0.09827217,  0.11993466,  0.12538773, -0.18252032,\n",
              "       -0.24188514, -0.02923772,  0.1036544 , -0.12615263,  0.11587217,\n",
              "        0.05073017, -0.28070384,  0.3971004 , -0.02896293,  0.01708884,\n",
              "       -0.5666437 , -0.08824649, -0.21162416,  0.12364972, -0.19981728,\n",
              "        0.08719651, -0.0285664 ,  0.4719795 ,  0.21326505,  0.39288303,\n",
              "        0.00222144, -0.21938993, -0.04781735, -0.17775704,  0.15444058,\n",
              "       -0.0851372 ,  0.00660276,  0.5329932 ,  0.03394498, -0.61217874,\n",
              "       -0.0898356 , -0.4490758 ,  0.5552185 , -0.21247943,  0.06462318,\n",
              "        0.11551455,  0.07392553,  0.05801741,  0.07177571, -0.3528777 ,\n",
              "       -0.51090485, -0.03657972,  0.10748142, -0.0663703 , -0.16955458,\n",
              "        0.27521542, -0.20009954,  0.23288016,  0.2658339 ,  0.37917587,\n",
              "       -0.04244625,  0.12366031, -0.29614952, -0.213174  , -0.14553823,\n",
              "       -0.06075248, -0.04950562, -0.42152414,  0.172277  ,  0.16296567,\n",
              "       -0.06770728, -0.039307  ,  0.13213938, -0.04982412,  0.4228479 ,\n",
              "       -0.03463855, -0.49357477, -0.407869  ,  0.34078074, -0.08833165,\n",
              "       -0.26677823, -0.06874803, -0.28170303], dtype=float32)"
            ]
          },
          "metadata": {
            "tags": []
          },
          "execution_count": 49
        }
      ]
    },
    {
      "cell_type": "code",
      "metadata": {
        "id": "Wj-NzkerwNO0"
      },
      "source": [
        "emb_weights = [word_vectors[w] for w in modelW2V.wv.vocab.keys()]"
      ],
      "execution_count": null,
      "outputs": []
    },
    {
      "cell_type": "code",
      "metadata": {
        "colab": {
          "base_uri": "https://localhost:8080/"
        },
        "id": "D699XUUVxJ4t",
        "outputId": "42d33230-4c24-4b28-d20a-ae015c51e761"
      },
      "source": [
        "len(emb_weights)"
      ],
      "execution_count": null,
      "outputs": [
        {
          "output_type": "execute_result",
          "data": {
            "text/plain": [
              "2034"
            ]
          },
          "metadata": {
            "tags": []
          },
          "execution_count": 51
        }
      ]
    },
    {
      "cell_type": "code",
      "metadata": {
        "colab": {
          "base_uri": "https://localhost:8080/"
        },
        "id": "jgjDPehv0DdE",
        "outputId": "fa005d5b-13d2-4fbe-970c-3ab522946a70"
      },
      "source": [
        "len(emb_weights[0])"
      ],
      "execution_count": null,
      "outputs": [
        {
          "output_type": "execute_result",
          "data": {
            "text/plain": [
              "128"
            ]
          },
          "metadata": {
            "tags": []
          },
          "execution_count": 52
        }
      ]
    },
    {
      "cell_type": "code",
      "metadata": {
        "id": "AsXcR3ze4JjT"
      },
      "source": [
        "emb_weights = np.asarray(emb_weights)"
      ],
      "execution_count": null,
      "outputs": []
    },
    {
      "cell_type": "code",
      "metadata": {
        "id": "DZfFkJY1ojd-"
      },
      "source": [
        "model = Sequential()\n",
        "model.add(Embedding(input_dim=2034, output_dim=128, input_length=max_len, weights=[emb_weights], trainable=False))\n",
        "model.add(Conv1D(128, 3))\n",
        "model.add(Activation(\"relu\"))\n",
        "model.add(GlobalMaxPool1D())\n",
        "model.add(Dense(10))\n",
        "model.add(Activation(\"relu\"))\n",
        "model.add(Dense(num_classes))\n",
        "model.add(Activation('softmax'))"
      ],
      "execution_count": null,
      "outputs": []
    },
    {
      "cell_type": "code",
      "metadata": {
        "colab": {
          "base_uri": "https://localhost:8080/",
          "height": 887
        },
        "id": "Hf6zDa4Uojcv",
        "outputId": "43fa9865-81c0-4eb7-c3b1-1e818913a2f9"
      },
      "source": [
        "model.compile(loss='categorical_crossentropy',\n",
        "              optimizer='adam',\n",
        "              metrics=['accuracy'])\n",
        "\n",
        "tensorboard=TensorBoard(log_dir='./logs', write_graph=True, write_images=True)\n",
        "early_stopping=EarlyStopping(monitor='val_loss')  \n",
        "\n",
        "history = model.fit(x_train, y_train,\n",
        "                    batch_size=batch_size,\n",
        "                    epochs=epochs,\n",
        "                    verbose=1,\n",
        "                    validation_split=0.1,\n",
        "                    callbacks=[tensorboard, early_stopping])\n",
        "\n",
        "score = model.evaluate(x_test, y_test, batch_size=batch_size, verbose=1)\n",
        "print('\\n')\n",
        "print(f'Test score: { score[0]: .3f}' )\n",
        "print(f'Test accuracy: {score[1]: .3f}')\n",
        "\n",
        "my_plot_graphs(history)"
      ],
      "execution_count": null,
      "outputs": [
        {
          "output_type": "stream",
          "text": [
            "Epoch 1/20\n",
            "28/28 [==============================] - 4s 112ms/step - loss: 0.5577 - accuracy: 0.7327 - val_loss: 0.3999 - val_accuracy: 0.8430\n",
            "Epoch 2/20\n",
            "28/28 [==============================] - 3s 102ms/step - loss: 0.3623 - accuracy: 0.8523 - val_loss: 0.3568 - val_accuracy: 0.8430\n",
            "Epoch 3/20\n",
            "28/28 [==============================] - 3s 102ms/step - loss: 0.3392 - accuracy: 0.8534 - val_loss: 0.3434 - val_accuracy: 0.8500\n",
            "Epoch 4/20\n",
            "28/28 [==============================] - 3s 102ms/step - loss: 0.3282 - accuracy: 0.8603 - val_loss: 0.3363 - val_accuracy: 0.8481\n",
            "Epoch 5/20\n",
            "28/28 [==============================] - 3s 102ms/step - loss: 0.3221 - accuracy: 0.8607 - val_loss: 0.3300 - val_accuracy: 0.8538\n",
            "Epoch 6/20\n",
            "28/28 [==============================] - 3s 101ms/step - loss: 0.3244 - accuracy: 0.8605 - val_loss: 0.3292 - val_accuracy: 0.8494\n",
            "Epoch 7/20\n",
            "28/28 [==============================] - 3s 102ms/step - loss: 0.3088 - accuracy: 0.8668 - val_loss: 0.3233 - val_accuracy: 0.8506\n",
            "Epoch 8/20\n",
            "28/28 [==============================] - 3s 102ms/step - loss: 0.3192 - accuracy: 0.8602 - val_loss: 0.3184 - val_accuracy: 0.8544\n",
            "Epoch 9/20\n",
            "28/28 [==============================] - 3s 101ms/step - loss: 0.3067 - accuracy: 0.8657 - val_loss: 0.3352 - val_accuracy: 0.8513\n",
            "8/8 [==============================] - 0s 35ms/step - loss: 0.3239 - accuracy: 0.8587\n",
            "\n",
            "\n",
            "Test score:  0.324\n",
            "Test accuracy:  0.859\n"
          ],
          "name": "stdout"
        },
        {
          "output_type": "display_data",
          "data": {
            "image/png": "[encoded data removed]",
            "text/plain": [
              "<Figure size 1152x576 with 2 Axes>"
            ]
          },
          "metadata": {
            "tags": [],
            "needs_background": "light"
          }
        }
      ]
    },
    {
      "cell_type": "markdown",
      "metadata": {
        "id": "AXCHkUeBKFqW"
      },
      "source": [
        "### FastText     \n",
        "Test accuracy:  0.847"
      ]
    },
    {
      "cell_type": "code",
      "metadata": {
        "id": "SC_4IJTOHXmO"
      },
      "source": [
        "from gensim.models import FastText"
      ],
      "execution_count": null,
      "outputs": []
    },
    {
      "cell_type": "code",
      "metadata": {
        "id": "FKFobSUcHXjb"
      },
      "source": [
        "modelFT = FastText(sentences=X_train.apply(str.split), size=128, window=5, min_count=5, workers=8)"
      ],
      "execution_count": null,
      "outputs": []
    },
    {
      "cell_type": "code",
      "metadata": {
        "colab": {
          "base_uri": "https://localhost:8080/"
        },
        "id": "qLOdpjDRHXgj",
        "outputId": "ed3f0fd7-0992-4752-d394-cbf5bd213ed9"
      },
      "source": [
        "[print(wv) for i, wv in enumerate(modelFT.wv.vocab.items()) if i < 10]"
      ],
      "execution_count": null,
      "outputs": [
        {
          "output_type": "stream",
          "text": [
            "('клано', <gensim.models.keyedvectors.Vocab object at 0x7f2529645450>)\n",
            "('неозможный', <gensim.models.keyedvectors.Vocab object at 0x7f2529645310>)\n",
            "('пользоать', <gensim.models.keyedvectors.Vocab object at 0x7f25296452d0>)\n",
            "('рутоать', <gensim.models.keyedvectors.Vocab object at 0x7f2529645190>)\n",
            "('телефон', <gensim.models.keyedvectors.Vocab object at 0x7f2529f28410>)\n",
            "('работать', <gensim.models.keyedvectors.Vocab object at 0x7f2529f28e90>)\n",
            "('хорошо', <gensim.models.keyedvectors.Vocab object at 0x7f2529f28050>)\n",
            "('без', <gensim.models.keyedvectors.Vocab object at 0x7f2529f28610>)\n",
            "('нареканть', <gensim.models.keyedvectors.Vocab object at 0x7f252bd2d050>)\n",
            "('отлчно', <gensim.models.keyedvectors.Vocab object at 0x7f2529f28d50>)\n"
          ],
          "name": "stdout"
        },
        {
          "output_type": "execute_result",
          "data": {
            "text/plain": [
              "[None, None, None, None, None, None, None, None, None, None]"
            ]
          },
          "metadata": {
            "tags": []
          },
          "execution_count": 58
        }
      ]
    },
    {
      "cell_type": "code",
      "metadata": {
        "id": "RWCLUz3VJuz5"
      },
      "source": [
        "word_vectors = modelFT.wv"
      ],
      "execution_count": null,
      "outputs": []
    },
    {
      "cell_type": "code",
      "metadata": {
        "colab": {
          "base_uri": "https://localhost:8080/"
        },
        "id": "c9TpmH0aJu0B",
        "outputId": "7d0097b3-c950-4789-8154-7239f6621216"
      },
      "source": [
        "word_vectors['хорошо']"
      ],
      "execution_count": null,
      "outputs": [
        {
          "output_type": "execute_result",
          "data": {
            "text/plain": [
              "array([ 0.02612176, -0.21009658,  0.31282255, -0.14318283, -0.14042014,\n",
              "        0.20661719,  0.34769845, -0.39945534, -0.0393338 ,  0.13550375,\n",
              "        0.11033227, -0.5302329 ,  0.03739835,  0.09654061,  0.02329651,\n",
              "       -0.13828385, -0.22289364, -0.37431565,  0.4958078 , -0.0258562 ,\n",
              "       -0.48130804, -0.34100434, -0.53865933,  0.41143426,  0.28787175,\n",
              "       -0.25660172, -0.11199482, -0.27768138, -0.15355861,  0.252539  ,\n",
              "       -0.31521922,  0.10156   ,  0.04430514,  0.4252695 , -0.5377454 ,\n",
              "        0.5224151 , -0.3200826 ,  0.31578252,  0.01865429,  0.41594782,\n",
              "       -0.44245338, -0.01320713, -0.32671744,  0.06629298,  0.11267281,\n",
              "       -0.35382092,  0.2153409 ,  0.32362184, -0.09164255,  0.05534909,\n",
              "        0.16044886,  0.21034367,  0.12233334,  0.0190817 , -0.06934981,\n",
              "        0.00170265, -0.32373118,  0.2605174 ,  0.23507577, -0.21243568,\n",
              "        0.32458922, -0.46644282, -0.07072479, -0.3345364 , -0.041426  ,\n",
              "        0.6171435 , -0.12339924, -0.5268321 ,  0.00693017, -0.66284055,\n",
              "       -0.21560518,  0.08484989,  0.19628572, -0.03244139, -0.17555407,\n",
              "       -0.14929251, -0.10334028, -0.07142613,  0.16884251, -0.08249517,\n",
              "       -0.16049886, -0.8057097 ,  0.12716518, -0.10105643,  0.22212   ,\n",
              "        0.56169355,  0.15132114, -0.11710563, -0.04606117, -0.07184961,\n",
              "        0.3292659 , -0.2649649 ,  0.4432749 , -0.08748564,  0.57904816,\n",
              "        0.546356  ,  0.32523292,  0.26398253, -0.26755622, -0.20633097,\n",
              "       -0.32885915,  0.33567652, -0.07332875,  0.5825426 , -0.34141088,\n",
              "       -0.40577108,  0.02912225, -0.16283053,  0.60236   ,  0.09804469,\n",
              "        0.1100677 , -0.43193004, -0.56332725,  0.2943477 ,  0.01557235,\n",
              "        0.03755751, -0.20364457,  0.3105775 , -0.13883771, -0.3189158 ,\n",
              "       -0.4421432 , -0.23482709,  0.30402398, -0.31231102, -0.07031909,\n",
              "        0.00171459, -0.15757006,  0.04166742], dtype=float32)"
            ]
          },
          "metadata": {
            "tags": []
          },
          "execution_count": 60
        }
      ]
    },
    {
      "cell_type": "code",
      "metadata": {
        "id": "7RoNh5BrJu0C"
      },
      "source": [
        "emb_weights = [word_vectors[w] for w in modelFT.wv.vocab.keys()]"
      ],
      "execution_count": null,
      "outputs": []
    },
    {
      "cell_type": "code",
      "metadata": {
        "colab": {
          "base_uri": "https://localhost:8080/"
        },
        "id": "_7wy4tsWJu0C",
        "outputId": "82892b8d-7c41-4406-a6bd-3d7db6f1ea83"
      },
      "source": [
        "len(emb_weights)"
      ],
      "execution_count": null,
      "outputs": [
        {
          "output_type": "execute_result",
          "data": {
            "text/plain": [
              "2034"
            ]
          },
          "metadata": {
            "tags": []
          },
          "execution_count": 62
        }
      ]
    },
    {
      "cell_type": "code",
      "metadata": {
        "colab": {
          "base_uri": "https://localhost:8080/"
        },
        "id": "LcNU8Rq1Ju0C",
        "outputId": "9d00c264-57b3-4574-b3d7-c3c8337abd81"
      },
      "source": [
        "len(emb_weights[0])"
      ],
      "execution_count": null,
      "outputs": [
        {
          "output_type": "execute_result",
          "data": {
            "text/plain": [
              "128"
            ]
          },
          "metadata": {
            "tags": []
          },
          "execution_count": 63
        }
      ]
    },
    {
      "cell_type": "code",
      "metadata": {
        "id": "TdVARWVBJu0D"
      },
      "source": [
        "emb_weights = np.asarray(emb_weights)"
      ],
      "execution_count": null,
      "outputs": []
    },
    {
      "cell_type": "code",
      "metadata": {
        "id": "6-vQl2MvJu0D"
      },
      "source": [
        "model = Sequential()\n",
        "model.add(Embedding(input_dim=2034, output_dim=128, input_length=max_len, weights=[emb_weights], trainable=False))\n",
        "model.add(Conv1D(128, 3))\n",
        "model.add(Activation(\"relu\"))\n",
        "model.add(GlobalMaxPool1D())\n",
        "model.add(Dense(10))\n",
        "model.add(Activation(\"relu\"))\n",
        "model.add(Dense(num_classes))\n",
        "model.add(Activation('softmax'))"
      ],
      "execution_count": null,
      "outputs": []
    },
    {
      "cell_type": "code",
      "metadata": {
        "colab": {
          "base_uri": "https://localhost:8080/",
          "height": 1000
        },
        "id": "On6soBCiJu0D",
        "outputId": "3c6a9f3c-0119-4e09-e77b-b57f33f1a69a"
      },
      "source": [
        "model.compile(loss='categorical_crossentropy',\n",
        "              optimizer='adam',\n",
        "              metrics=['accuracy'])\n",
        "\n",
        "tensorboard=TensorBoard(log_dir='./logs', write_graph=True, write_images=True)\n",
        "early_stopping=EarlyStopping(monitor='val_loss')  \n",
        "\n",
        "history = model.fit(x_train, y_train,\n",
        "                    batch_size=batch_size,\n",
        "                    epochs=epochs,\n",
        "                    verbose=1,\n",
        "                    validation_split=0.1,\n",
        "                    callbacks=[tensorboard, early_stopping])\n",
        "\n",
        "score = model.evaluate(x_test, y_test, batch_size=batch_size, verbose=1)\n",
        "print('\\n')\n",
        "print(f'Test score: { score[0]: .3f}' )\n",
        "print(f'Test accuracy: {score[1]: .3f}')\n",
        "\n",
        "my_plot_graphs(history)"
      ],
      "execution_count": null,
      "outputs": [
        {
          "output_type": "stream",
          "text": [
            "Epoch 1/20\n",
            "28/28 [==============================] - 4s 111ms/step - loss: 0.7130 - accuracy: 0.6289 - val_loss: 0.6746 - val_accuracy: 0.8430\n",
            "Epoch 2/20\n",
            "28/28 [==============================] - 3s 102ms/step - loss: 0.6700 - accuracy: 0.8457 - val_loss: 0.6571 - val_accuracy: 0.8430\n",
            "Epoch 3/20\n",
            "28/28 [==============================] - 3s 102ms/step - loss: 0.6522 - accuracy: 0.8484 - val_loss: 0.6405 - val_accuracy: 0.8430\n",
            "Epoch 4/20\n",
            "28/28 [==============================] - 3s 101ms/step - loss: 0.6361 - accuracy: 0.8460 - val_loss: 0.6250 - val_accuracy: 0.8430\n",
            "Epoch 5/20\n",
            "28/28 [==============================] - 3s 101ms/step - loss: 0.6199 - accuracy: 0.8497 - val_loss: 0.6105 - val_accuracy: 0.8430\n",
            "Epoch 6/20\n",
            "28/28 [==============================] - 3s 100ms/step - loss: 0.6062 - accuracy: 0.8460 - val_loss: 0.5969 - val_accuracy: 0.8430\n",
            "Epoch 7/20\n",
            "28/28 [==============================] - 3s 103ms/step - loss: 0.5926 - accuracy: 0.8464 - val_loss: 0.5843 - val_accuracy: 0.8430\n",
            "Epoch 8/20\n",
            "28/28 [==============================] - 3s 102ms/step - loss: 0.5797 - accuracy: 0.8471 - val_loss: 0.5724 - val_accuracy: 0.8430\n",
            "Epoch 9/20\n",
            "28/28 [==============================] - 3s 101ms/step - loss: 0.5673 - accuracy: 0.8487 - val_loss: 0.5615 - val_accuracy: 0.8430\n",
            "Epoch 10/20\n",
            "28/28 [==============================] - 3s 100ms/step - loss: 0.5576 - accuracy: 0.8458 - val_loss: 0.5512 - val_accuracy: 0.8430\n",
            "Epoch 11/20\n",
            "28/28 [==============================] - 3s 102ms/step - loss: 0.5467 - accuracy: 0.8472 - val_loss: 0.5417 - val_accuracy: 0.8430\n",
            "Epoch 12/20\n",
            "28/28 [==============================] - 3s 102ms/step - loss: 0.5410 - accuracy: 0.8402 - val_loss: 0.5330 - val_accuracy: 0.8430\n",
            "Epoch 13/20\n",
            "28/28 [==============================] - 3s 103ms/step - loss: 0.5283 - accuracy: 0.8474 - val_loss: 0.5248 - val_accuracy: 0.8430\n",
            "Epoch 14/20\n",
            "28/28 [==============================] - 3s 103ms/step - loss: 0.5200 - accuracy: 0.8475 - val_loss: 0.5172 - val_accuracy: 0.8430\n",
            "Epoch 15/20\n",
            "28/28 [==============================] - 3s 103ms/step - loss: 0.5129 - accuracy: 0.8467 - val_loss: 0.5102 - val_accuracy: 0.8430\n",
            "Epoch 16/20\n",
            "28/28 [==============================] - 3s 102ms/step - loss: 0.5052 - accuracy: 0.8477 - val_loss: 0.5037 - val_accuracy: 0.8430\n",
            "Epoch 17/20\n",
            "28/28 [==============================] - 3s 102ms/step - loss: 0.5003 - accuracy: 0.8456 - val_loss: 0.4978 - val_accuracy: 0.8430\n",
            "Epoch 18/20\n",
            "28/28 [==============================] - 3s 102ms/step - loss: 0.4921 - accuracy: 0.8484 - val_loss: 0.4922 - val_accuracy: 0.8430\n",
            "Epoch 19/20\n",
            "28/28 [==============================] - 3s 101ms/step - loss: 0.4881 - accuracy: 0.8463 - val_loss: 0.4871 - val_accuracy: 0.8430\n",
            "Epoch 20/20\n",
            "28/28 [==============================] - 3s 102ms/step - loss: 0.4842 - accuracy: 0.8450 - val_loss: 0.4825 - val_accuracy: 0.8430\n",
            "8/8 [==============================] - 0s 34ms/step - loss: 0.4791 - accuracy: 0.8468\n",
            "\n",
            "\n",
            "Test score:  0.479\n",
            "Test accuracy:  0.847\n"
          ],
          "name": "stdout"
        },
        {
          "output_type": "display_data",
          "data": {
            "image/png": "[encoded data removed]",
            "text/plain": [
              "<Figure size 1152x576 with 2 Axes>"
            ]
          },
          "metadata": {
            "tags": [],
            "needs_background": "light"
          }
        }
      ]
    }
  ]
}